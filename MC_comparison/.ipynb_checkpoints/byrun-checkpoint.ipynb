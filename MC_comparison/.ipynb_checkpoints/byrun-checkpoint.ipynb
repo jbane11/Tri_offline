{
 "cells": [
  {
   "cell_type": "code",
   "execution_count": 36,
   "metadata": {},
   "outputs": [
    {
     "name": "stderr",
     "output_type": "stream",
     "text": [
      "No handles with labels found to put in legend.\n",
      "No handles with labels found to put in legend.\n"
     ]
    },
    {
     "name": "stdout",
     "output_type": "stream",
     "text": [
      "Will look at runs  {}\n"
     ]
    },
    {
     "data": {
      "image/png": "[encoded data removed]",
      "text/plain": [
       "<matplotlib.figure.Figure at 0x7f795be6b550>"
      ]
     },
     "metadata": {},
     "output_type": "display_data"
    }
   ],
   "source": [
    "# %load phys_plot.py\n",
    "# %load phys_plot.py\n",
    "import pandas as pd\n",
    "import matplotlib.pyplot as plt\n",
    "import os,sys\n",
    "import glob\n",
    "import numpy as np\n",
    "\n",
    "tgt=\"He3\"\n",
    "kin=\"5\"\n",
    "\n",
    "#############\n",
    "import mysql.connector\n",
    "db_user= 'triton-user'\n",
    "db_pswd= '3He3Hdata'\n",
    "db_name= 'triton-work'\n",
    "db_host= 'halladb'\n",
    "cnx = mysql.connector.connect(user=db_user,host=db_host,database=db_name, password=db_pswd)\n",
    "cursor = cnx.cursor(buffered=True)\n",
    "query = 'select run_number from MARATHONrunlist where (Kinematic = \"{}\" or Kinematic like \"{}[_]\") and target=\"{}\" order by run_number asc'.format(kin,kin,tgt)\n",
    "cursor.execute(query)\n",
    "results= cursor.fetchall()\n",
    "rl={}\n",
    "for i,row in enumerate(results):\n",
    "         rl[i]=(row[0])\n",
    "####################\n",
    "\n",
    "runs=rl\n",
    "#runs=[1289, 1313, 1322, 1323, 1326, 1327]#, 1328]\n",
    "#runs=[1283,1284,1285, 1297, 1298,1299]#, 2426, 2447, 2448]\n",
    "#runs=[1210,1236,1238,1282,1347]\n",
    "#runs=[1207,1233,1279,2570,1344,2632]\n",
    "#if len(sys.argv) >1:\n",
    "#    for i in range(1,len(sys.argv),1):\n",
    "#        runs.append(sys.argv[i])\n",
    "#else :\n",
    "#    print('Please enter the runs you want to look at! -1 when done')\n",
    "#    run=0\n",
    "#    i=0\n",
    "#    while run is not -1:\n",
    "#        i=i+1\n",
    "#        run=int(input(\"{}  \".format(i)))\n",
    "#        if run==-1:\n",
    "#            break\n",
    "#        runs.append(run)       \n",
    "print( \"Will look at runs \", runs)\n",
    "mcfile='/home/jbane/tritium/Tri_offline/MC_comparison/yield_output/byrun/'\n",
    "datafile='/home/jbane/tritium/Tri_offline/yield/yield_output/byrun/'\n",
    "\n",
    "mcDF={}\n",
    "dataDF={}\n",
    "mcDFs={}\n",
    "dataDFs={}\n",
    "ratios={}\n",
    "i=0\n",
    "for i in range(len(runs)):\n",
    "    run = runs[i]\n",
    "    \n",
    "    mcfileR=mcfile+'{}.dat'.format(run)\n",
    "    datafileR=datafile+'{}.dat'.format(run)\n",
    "    \n",
    "    chk1=0\n",
    "    chk=0\n",
    "    if os.path.isfile(mcfileR):\n",
    "        chk=1\n",
    "    else:\n",
    "        (\"MC file does not exist\") \n",
    "        chk=0\n",
    "    if os.path.isfile(datafileR):\n",
    "        chk1=1\n",
    "    else :\n",
    "        print(\"Data file does not exist\")\n",
    "        chk1=0\n",
    "    if chk==0 or chk1==0:\n",
    "        continue     \n",
    "\n",
    "    mcDF[i]=pd.read_table(mcfileR,delim_whitespace=True)\n",
    "    dataDF[i]=pd.read_table(datafileR,delim_whitespace=True)\n",
    "    mcmed=mcDF[i]['yield'].mean()\n",
    "    datamed=dataDF[i]['yield'].mean()\n",
    "    mcDFs[i]=mcDF[i][mcDF[i]['yield'] >=mcmed *0.2]\n",
    "    dataDFs[i]=dataDF[i][dataDF[i]['yield'] >= datamed *0.2]\n",
    "    mcDFs[i]=mcDFs[i].dropna()\n",
    "    dataDFs[i]=dataDFs[i].dropna()\n",
    "    #dataDFs[i]= dataDFs[i].drop(dataDFs[i].index[[0,len(dataDFs[i])-1]])\n",
    "    #mcDFs[i]=     mcDFs[i].drop(mcDFs[i].index[  [0,  len(mcDFs[i])-1]])\n",
    "    \n",
    "    ratios[i] = mcDFs[i].copy()\n",
    "    #ratios[i].drop('yield')\n",
    "    ratios[i]['data_Y'] =dataDFs[i]['yield']\n",
    "    ratios[i]['MC_Y'] = mcDFs[i]['yield']\n",
    "    ratios[i]['ratio'] = dataDFs[i]['yield']/mcDFs[i]['yield']\n",
    "    ratios[i]['offset'] = dataDFs[i]['theta'] - mcDFs[i]['theta']\n",
    "    mean=ratios[i][\":Ne\"].mean()\n",
    "    mcDFs[i]=mcDFs[i][ ratios[i][':Ne']>=0.3*mean]\n",
    "    dataDFs[i]=dataDFs[i][ ratios[i][':Ne']>=0.3*mean]\n",
    "    \n",
    "    ratios[i]=ratios[i][ ratios[i][':Ne']>=0.3*mean]\n",
    "    \n",
    "    print(run, len(mcDFs[i]), len(dataDFs[i]),len(ratios[i]))\n",
    "    \n",
    "    i=i+1\n",
    "    \n",
    "import matplotlib._color_data as mcd\n",
    "overlap = [name for name in mcd.CSS4_COLORS if \"xkcd:\" + name in mcd.XKCD_COLORS]\n",
    "\n",
    "markers =[[3,0,0]  ,[5,1,90] ,[4,0,90],[3,1,90],[6,2,0] ,[5,0,0] ,[4,1,0],[3,0,0]]\n",
    "markers2 =[[3,0,0] ,[5,1,90] ,[4,0,90],[3,1,90],[6,2,0] ,[5,0,70],[4,1,0],[3,0,0]]\n",
    "colors=['red', 'Green', 'Blue', 'Orange', 'Purple', 'Cyan', 'Magenta','Teal','Brown','Maroon','Mint','Navy']#, f032e6, bcf60c, fabebe, 008080, e6beff, 9A6324, fffac8, 800000, aaffc3, 808000, ffd8b1, 000075, a9a9a9, ffffff, 000000]\n",
    "fig= plt.figure(dpi=150,figsize=(9, 5))\n",
    "ax=fig.add_subplot(2,1,1)\n",
    "plt.title('{} Data to MC comparison'.format(tgt))\n",
    "bx=fig.add_subplot(2,1,2, sharex=ax)\n",
    "\n",
    "#fig,bx=plt.subplots(dpi=250)\n",
    "k=int(0)\n",
    "for j in range(len(mcDF)):\n",
    "    xkcd = mcd.XKCD_COLORS[\"xkcd:\" + overlap[j]].upper()\n",
    "    xkcd2 = mcd.XKCD_COLORS[\"xkcd:\" + overlap[j+len(mcDF)]].upper()\n",
    "    #print(j , runs[j])\n",
    "    if k == 7:\n",
    "        k = 0\n",
    "    \n",
    "    #if j == 110:\n",
    "     #   ax = mcDFs[j].plot(x='theta',y='yield',yerr=':error',kind='scatter', marker=markers[j], color='blue', label='MC run{}'.format(runs[j]))\n",
    "    #else :\n",
    "    mcDFs[j].plot(ax=ax,x='theta',y='yield',yerr=':error',kind='scatter',marker=markers[k], color='blue', label='MC run{}'.format(runs[j]))    \n",
    "    dataDFs[j].plot(ax=ax,x='theta',y='yield',yerr=':error',kind='scatter', marker=markers2[k], color='red', label='data run {}'.format(runs[j]))\n",
    "    ratios[j].plot(ax=bx,x='theta' ,y='ratio', xerr='offset', kind='scatter', label='{}'.format(runs[j]),marker=markers2[k] )\n",
    "    k=k+1\n",
    "    print(runs[j], ratios[j]['ratio'].mean())    \n",
    "ax.set_yscale(\"log\")\n",
    "ax.grid(True)\n",
    "bx.grid(True)\n",
    "ax.legend(ncol=2)\n",
    "bx.legend(ncol=2)\n",
    "\n",
    "fig.subplots_adjust(hspace=0)"
   ]
  },
  {
   "cell_type": "code",
   "execution_count": 34,
   "metadata": {},
   "outputs": [
    {
     "data": {
      "text/html": [
       "<div>\n",
       "<style scoped>\n",
       "    .dataframe tbody tr th:only-of-type {\n",
       "        vertical-align: middle;\n",
       "    }\n",
       "\n",
       "    .dataframe tbody tr th {\n",
       "        vertical-align: top;\n",
       "    }\n",
       "\n",
       "    .dataframe thead th {\n",
       "        text-align: right;\n",
       "    }\n",
       "</style>\n",
       "<table border=\"1\" class=\"dataframe\">\n",
       "  <thead>\n",
       "    <tr style=\"text-align: right;\">\n",
       "      <th></th>\n",
       "      <th>theta</th>\n",
       "      <th>:Ne</th>\n",
       "      <th>yield</th>\n",
       "      <th>:error</th>\n",
       "    </tr>\n",
       "  </thead>\n",
       "  <tbody>\n",
       "    <tr>\n",
       "      <th>6</th>\n",
       "      <td>21.8611</td>\n",
       "      <td>1065</td>\n",
       "      <td>0.003218</td>\n",
       "      <td>0.000033</td>\n",
       "    </tr>\n",
       "    <tr>\n",
       "      <th>7</th>\n",
       "      <td>22.4819</td>\n",
       "      <td>1771</td>\n",
       "      <td>0.005351</td>\n",
       "      <td>0.000055</td>\n",
       "    </tr>\n",
       "    <tr>\n",
       "      <th>8</th>\n",
       "      <td>23.3604</td>\n",
       "      <td>1423</td>\n",
       "      <td>0.004299</td>\n",
       "      <td>0.000044</td>\n",
       "    </tr>\n",
       "    <tr>\n",
       "      <th>9</th>\n",
       "      <td>24.2278</td>\n",
       "      <td>1143</td>\n",
       "      <td>0.003453</td>\n",
       "      <td>0.000035</td>\n",
       "    </tr>\n",
       "    <tr>\n",
       "      <th>10</th>\n",
       "      <td>24.8420</td>\n",
       "      <td>305</td>\n",
       "      <td>0.000922</td>\n",
       "      <td>0.000009</td>\n",
       "    </tr>\n",
       "  </tbody>\n",
       "</table>\n",
       "</div>"
      ],
      "text/plain": [
       "      theta   :Ne     yield    :error\n",
       "6   21.8611  1065  0.003218  0.000033\n",
       "7   22.4819  1771  0.005351  0.000055\n",
       "8   23.3604  1423  0.004299  0.000044\n",
       "9   24.2278  1143  0.003453  0.000035\n",
       "10  24.8420   305  0.000922  0.000009"
      ]
     },
     "execution_count": 34,
     "metadata": {},
     "output_type": "execute_result"
    }
   ],
   "source": [
    "dataDFs[0]"
   ]
  },
  {
   "cell_type": "code",
   "execution_count": 32,
   "metadata": {},
   "outputs": [
    {
     "data": {
      "text/plain": [
       "8861.0"
      ]
     },
     "execution_count": 32,
     "metadata": {},
     "output_type": "execute_result"
    }
   ],
   "source": [
    "ratios[0][\":Ne\"].mean()"
   ]
  },
  {
   "cell_type": "code",
   "execution_count": null,
   "metadata": {},
   "outputs": [],
   "source": []
  },
  {
   "cell_type": "code",
   "execution_count": null,
   "metadata": {},
   "outputs": [],
   "source": []
  },
  {
   "cell_type": "code",
   "execution_count": null,
   "metadata": {},
   "outputs": [],
   "source": []
  },
  {
   "cell_type": "code",
   "execution_count": null,
   "metadata": {},
   "outputs": [],
   "source": [
    "\n"
   ]
  }
 ],
 "metadata": {
  "kernelspec": {
   "display_name": "Python 3",
   "language": "python",
   "name": "python3"
  },
  "language_info": {
   "codemirror_mode": {
    "name": "ipython",
    "version": 3
   },
   "file_extension": ".py",
   "mimetype": "text/x-python",
   "name": "python",
   "nbconvert_exporter": "python",
   "pygments_lexer": "ipython3",
   "version": "3.6.4"
  }
 },
 "nbformat": 4,
 "nbformat_minor": 2
}
