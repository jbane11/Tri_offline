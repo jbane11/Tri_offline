{
 "cells": [
  {
   "cell_type": "code",
   "execution_count": 32,
   "metadata": {},
   "outputs": [],
   "source": [
    "\n",
    "def SQLRuns(tgt,kin,suf):\n",
    "\n",
    "\n",
    "    ##########################################\n",
    "    H3  = [\"Tritium\" ,\"T\", \"T3\", \"H3\" ]\n",
    "    D2  = [\"Deuterium\",\"D2\", \"D\", \"H2\" ]\n",
    "    H   = [\"Hydrogen\",\"H1\", \"H\" ]\n",
    "    He3 = [\"Helium-3\",\"Helium\",\"He3\"]\n",
    "    if tgt in H3 :\n",
    "         TGT = H3[0]\n",
    "    if tgt in D2 :\n",
    "         TGT = D2[0]\n",
    "    if tgt in H :\n",
    "         TGT = H[0]\n",
    "    if tgt in He3 :\n",
    "         TGT = He3[0]\n",
    "\n",
    "    tgt=TGT\n",
    "    #########################################        \n",
    "    if suf == 'all':\n",
    "        suf='%'\n",
    "    if suf != 'i%':\n",
    "        suf = suf + '%'\n",
    "        \n",
    "        Like='= \"{}\"'.format(kin)\n",
    "    if int(kin) >= 7:\n",
    "        Like= 'like \"{}/_{}\" ESCAPE \"/\"'.format(kin,suf)\n",
    "    #############\n",
    "    import mysql.connector\n",
    "    db_user= 'triton-user'\n",
    "    db_pswd= '3He3Hdata'\n",
    "    db_name= 'triton-work'\n",
    "    db_host= 'halladb'\n",
    "    print(\"check!!!\", Like)\n",
    "    cnx = mysql.connector.connect(user=db_user,host=db_host,database=db_name, password=db_pswd)\n",
    "    cursor = cnx.cursor(buffered=True)\n",
    "    query1 = 'select run_number from MARATHONrunlist where (Kinematic {}) and target=\"{}\" order by run_number asc'.format(Like,tgt)\n",
    "\n",
    "    print(query1)\n",
    "\n",
    "    query = 'select run_number from MARATHONrunlist where Kinematic = \"{}\" and target=\"{}\" order by run_number asc'.format(kin,kin,tgt)\n",
    "    cursor.execute(query1)\n",
    "    results= cursor.fetchall()\n",
    "    rl={}\n",
    "    for i,row in enumerate(results):\n",
    "        rl[i]=(row[0])\n",
    "    return rl\n",
    "    ####################\n"
   ]
  },
  {
   "cell_type": "code",
   "execution_count": 30,
   "metadata": {},
   "outputs": [
    {
     "name": "stdout",
     "output_type": "stream",
     "text": [
      "= \"1\"\n",
      "select run_number from MARATHONrunlist where (Kinematic = \"1\") and target=\"Tritium\" order by run_number asc\n"
     ]
    },
    {
     "data": {
      "text/plain": [
       "{0: 1215, 1: 1216, 2: 1224, 3: 1225}"
      ]
     },
     "execution_count": 30,
     "metadata": {},
     "output_type": "execute_result"
    }
   ],
   "source": [
    "SQLRuns(\"H3\",'1','all')"
   ]
  },
  {
   "cell_type": "code",
   "execution_count": null,
   "metadata": {},
   "outputs": [],
   "source": []
  }
 ],
 "metadata": {
  "kernelspec": {
   "display_name": "Python 3",
   "language": "python",
   "name": "python3"
  },
  "language_info": {
   "codemirror_mode": {
    "name": "ipython",
    "version": 3
   },
   "file_extension": ".py",
   "mimetype": "text/x-python",
   "name": "python",
   "nbconvert_exporter": "python",
   "pygments_lexer": "ipython3",
   "version": "3.6.4"
  }
 },
 "nbformat": 4,
 "nbformat_minor": 2
}
