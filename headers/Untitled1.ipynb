{
 "cells": [
  {
   "cell_type": "code",
   "execution_count": 1,
   "metadata": {},
   "outputs": [
    {
     "data": {
      "text/html": [
       "<style>.container { width:100% !important; }</style>"
      ],
      "text/plain": [
       "<IPython.core.display.HTML object>"
      ]
     },
     "metadata": {},
     "output_type": "display_data"
    }
   ],
   "source": [
    "from IPython.core.display import display, HTML\n",
    "display(HTML(\"<style>.container { width:100% !important; }</style>\"))\n",
    "import pandas as pd\n",
    "import matplotlib.pyplot as plt\n",
    "import os,sys\n",
    "import glob\n",
    "import numpy as np\n",
    "from numpy import *\n",
    "import scipy\n",
    "from scipy import interpolate\n",
    "\n",
    "from scipy.interpolate import make_interp_spline, BSpline\n",
    "\n",
    "sys.path.append('/home/jbane/headers')\n",
    "import SQLFuncs as SQLF\n",
    "import seaborn as sns\n",
    "\n",
    "\n",
    "plt.style.use('seaborn-white')\n",
    "\n",
    "plt.rcParams['font.family'] = 'DejaVu Sans'\n",
    "plt.rcParams['font.serif'] = 'Ubuntu'\n",
    "plt.rcParams['font.monospace'] = 'Ubuntu Mono'\n",
    "plt.rcParams['font.size'] = 10\n",
    "plt.rcParams['axes.labelsize'] = 10\n",
    "plt.rcParams['axes.labelweight'] = 'bold'\n",
    "plt.rcParams['axes.titlesize'] = 10\n",
    "plt.rcParams['xtick.labelsize'] = 8\n",
    "plt.rcParams['ytick.labelsize'] = 8\n",
    "plt.rcParams['legend.fontsize'] = 10\n",
    "plt.rcParams['figure.titlesize'] = 12\n"
   ]
  },
  {
   "cell_type": "code",
   "execution_count": 2,
   "metadata": {},
   "outputs": [],
   "source": [
    "def total_eff(tgt,kin,suf):\n",
    "    runlist=SQLF.SQLRuns(tgt,kin,suf)\n",
    "    corl=[]\n",
    "    luml=[]\n",
    "    totlum=0\n",
    "    totf=0\n",
    "    werr=0\n",
    "    print(runlist)\n",
    "    for i in runlist:\n",
    "\n",
    "        run=runlist[i]\n",
    "        cor,corerr,corDF=SQLF.get_runcor(run)\n",
    "        lum,lumerr=SQLF.Calc_Lum(run)\n",
    "        corl.append(cor)\n",
    "        luml.append(lum)\n",
    "        werr = werr + corerr*lum\n",
    "\n",
    "        totlum=totlum+lum\n",
    "        totf=cor*lum + totf\n",
    "        print(run,totf/totlum , corerr,  werr/totlum)\n",
    "    return totf/totlum, werr/totlum\n",
    "\n",
    "  \n",
    "    \n",
    "    "
   ]
  },
  {
   "cell_type": "code",
   "execution_count": 3,
   "metadata": {},
   "outputs": [
    {
     "name": "stdout",
     "output_type": "stream",
     "text": [
      "{0: 1207}\n",
      "1207 0.9642313318041922 0.039265216948337366 0.039265216948337366\n"
     ]
    },
    {
     "data": {
      "text/plain": [
       "(0.9642313318041922, 0.039265216948337366)"
      ]
     },
     "execution_count": 3,
     "metadata": {},
     "output_type": "execute_result"
    }
   ],
   "source": [
    "total_eff(\"C12\",\"1\",\"all\")"
   ]
  },
  {
   "cell_type": "code",
   "execution_count": 4,
   "metadata": {},
   "outputs": [
    {
     "ename": "NameError",
     "evalue": "name 'corDF' is not defined",
     "output_type": "error",
     "traceback": [
      "\u001b[0;31m----------------------------------\u001b[0m",
      "\u001b[0;31mNameError\u001b[0mTraceback (most recent call last)",
      "\u001b[0;32m<ipython-input-4-1767a0f03aa3>\u001b[0m in \u001b[0;36m<module>\u001b[0;34m()\u001b[0m\n\u001b[0;32m----> 1\u001b[0;31m \u001b[0mcorDF\u001b[0m\u001b[0;34m\u001b[0m\u001b[0;34m\u001b[0m\u001b[0m\n\u001b[0m",
      "\u001b[0;31mNameError\u001b[0m: name 'corDF' is not defined"
     ]
    }
   ],
   "source": [
    "corDF"
   ]
  },
  {
   "cell_type": "code",
   "execution_count": 5,
   "metadata": {},
   "outputs": [
    {
     "ename": "SyntaxError",
     "evalue": "EOL while scanning string literal (<ipython-input-5-2a1fa9a498b0>, line 1)",
     "output_type": "error",
     "traceback": [
      "\u001b[0;36m  File \u001b[0;32m\"<ipython-input-5-2a1fa9a498b0>\"\u001b[0;36m, line \u001b[0;32m1\u001b[0m\n\u001b[0;31m    SQLF.ECC(\"D2\",\"7\u001b[0m\n\u001b[0m                    ^\u001b[0m\n\u001b[0;31mSyntaxError\u001b[0m\u001b[0;31m:\u001b[0m EOL while scanning string literal\n"
     ]
    }
   ],
   "source": [
    "SQLF.ECC(\"D2\",\"7\n",
    "         \")"
   ]
  },
  {
   "cell_type": "code",
   "execution_count": 6,
   "metadata": {},
   "outputs": [],
   "source": [
    "    filen=\"/home/jbane/Documents/ECC_table.csv\"\n",
    "    ECCdf=pd.read_csv(filen)"
   ]
  },
  {
   "cell_type": "code",
   "execution_count": 7,
   "metadata": {},
   "outputs": [
    {
     "data": {
      "text/html": [
       "<div>\n",
       "<style scoped>\n",
       "    .dataframe tbody tr th:only-of-type {\n",
       "        vertical-align: middle;\n",
       "    }\n",
       "\n",
       "    .dataframe tbody tr th {\n",
       "        vertical-align: top;\n",
       "    }\n",
       "\n",
       "    .dataframe thead th {\n",
       "        text-align: right;\n",
       "    }\n",
       "</style>\n",
       "<table border=\"1\" class=\"dataframe\">\n",
       "  <thead>\n",
       "    <tr style=\"text-align: right;\">\n",
       "      <th></th>\n",
       "      <th>Unnamed: 0</th>\n",
       "      <th>H3</th>\n",
       "      <th>He3</th>\n",
       "      <th>D2</th>\n",
       "      <th>H</th>\n",
       "    </tr>\n",
       "  </thead>\n",
       "  <tbody>\n",
       "    <tr>\n",
       "      <th>0</th>\n",
       "      <td>0</td>\n",
       "      <td>0.02342</td>\n",
       "      <td>0.027100</td>\n",
       "      <td>0.018600</td>\n",
       "      <td>0.02922</td>\n",
       "    </tr>\n",
       "    <tr>\n",
       "      <th>1</th>\n",
       "      <td>1</td>\n",
       "      <td>0.02185</td>\n",
       "      <td>0.025120</td>\n",
       "      <td>0.011380</td>\n",
       "      <td>0.02380</td>\n",
       "    </tr>\n",
       "    <tr>\n",
       "      <th>2</th>\n",
       "      <td>2</td>\n",
       "      <td>0.02028</td>\n",
       "      <td>0.022940</td>\n",
       "      <td>0.010200</td>\n",
       "      <td>0.02090</td>\n",
       "    </tr>\n",
       "    <tr>\n",
       "      <th>3</th>\n",
       "      <td>3</td>\n",
       "      <td>0.01630</td>\n",
       "      <td>0.018390</td>\n",
       "      <td>0.008206</td>\n",
       "      <td>0.01780</td>\n",
       "    </tr>\n",
       "    <tr>\n",
       "      <th>4</th>\n",
       "      <td>4</td>\n",
       "      <td>0.01540</td>\n",
       "      <td>0.017270</td>\n",
       "      <td>0.009348</td>\n",
       "      <td>0.01760</td>\n",
       "    </tr>\n",
       "    <tr>\n",
       "      <th>5</th>\n",
       "      <td>5</td>\n",
       "      <td>0.01445</td>\n",
       "      <td>0.015738</td>\n",
       "      <td>0.008640</td>\n",
       "      <td>NaN</td>\n",
       "    </tr>\n",
       "    <tr>\n",
       "      <th>6</th>\n",
       "      <td>7</td>\n",
       "      <td>0.01177</td>\n",
       "      <td>0.012500</td>\n",
       "      <td>0.008310</td>\n",
       "      <td>NaN</td>\n",
       "    </tr>\n",
       "    <tr>\n",
       "      <th>7</th>\n",
       "      <td>9</td>\n",
       "      <td>0.00900</td>\n",
       "      <td>0.009740</td>\n",
       "      <td>0.005700</td>\n",
       "      <td>NaN</td>\n",
       "    </tr>\n",
       "    <tr>\n",
       "      <th>8</th>\n",
       "      <td>11</td>\n",
       "      <td>0.00690</td>\n",
       "      <td>0.007150</td>\n",
       "      <td>0.005121</td>\n",
       "      <td>NaN</td>\n",
       "    </tr>\n",
       "    <tr>\n",
       "      <th>9</th>\n",
       "      <td>13</td>\n",
       "      <td>0.00550</td>\n",
       "      <td>0.005723</td>\n",
       "      <td>0.003790</td>\n",
       "      <td>NaN</td>\n",
       "    </tr>\n",
       "    <tr>\n",
       "      <th>10</th>\n",
       "      <td>15</td>\n",
       "      <td>0.00430</td>\n",
       "      <td>0.004497</td>\n",
       "      <td>0.002765</td>\n",
       "      <td>NaN</td>\n",
       "    </tr>\n",
       "    <tr>\n",
       "      <th>11</th>\n",
       "      <td>16</td>\n",
       "      <td>0.00320</td>\n",
       "      <td>0.003272</td>\n",
       "      <td>0.002686</td>\n",
       "      <td>NaN</td>\n",
       "    </tr>\n",
       "  </tbody>\n",
       "</table>\n",
       "</div>"
      ],
      "text/plain": [
       "    Unnamed: 0       H3       He3        D2        H\n",
       "0            0  0.02342  0.027100  0.018600  0.02922\n",
       "1            1  0.02185  0.025120  0.011380  0.02380\n",
       "2            2  0.02028  0.022940  0.010200  0.02090\n",
       "3            3  0.01630  0.018390  0.008206  0.01780\n",
       "4            4  0.01540  0.017270  0.009348  0.01760\n",
       "5            5  0.01445  0.015738  0.008640      NaN\n",
       "6            7  0.01177  0.012500  0.008310      NaN\n",
       "7            9  0.00900  0.009740  0.005700      NaN\n",
       "8           11  0.00690  0.007150  0.005121      NaN\n",
       "9           13  0.00550  0.005723  0.003790      NaN\n",
       "10          15  0.00430  0.004497  0.002765      NaN\n",
       "11          16  0.00320  0.003272  0.002686      NaN"
      ]
     },
     "execution_count": 7,
     "metadata": {},
     "output_type": "execute_result"
    }
   ],
   "source": [
    "ECCdf"
   ]
  },
  {
   "cell_type": "code",
   "execution_count": 8,
   "metadata": {},
   "outputs": [
    {
     "name": "stdout",
     "output_type": "stream",
     "text": [
      "1 0.01138\n",
      "2 0.0102\n",
      "3 0.008206\n",
      "4 0.009348\n",
      "15 0.0027649999999999997\n"
     ]
    }
   ],
   "source": [
    "tgt=\"D2\"\n",
    "kins=[\"1\",\"2\",\"3\",\"4\",\"15\"]\n",
    "\n",
    "for kin in kins:\n",
    "    \n",
    "    filen=\"/home/jbane/Documents/ECC_table.csv\"\n",
    "    ECCdf=pd.read_csv(filen)\n",
    "    ECCdf=ECCdf.fillna(1)\n",
    "    ECCdf=ECCdf.rename(index=str, columns={\"Unnamed: 0\":\"Kin\"})\n",
    "    ECCf=ECCdf[tgt][ECCdf[\"Kin\"]==int(kin)]\n",
    "    a=ECCf[0]\n",
    "    print(kin,a)"
   ]
  },
  {
   "cell_type": "code",
   "execution_count": 9,
   "metadata": {},
   "outputs": [
    {
     "data": {
      "text/plain": [
       "3    0.008206\n",
       "Name: D2, dtype: float64"
      ]
     },
     "execution_count": 9,
     "metadata": {},
     "output_type": "execute_result"
    }
   ],
   "source": [
    "ECCdf['D2'][ECCdf[\"Kin\"]==3]"
   ]
  },
  {
   "cell_type": "code",
   "execution_count": 10,
   "metadata": {},
   "outputs": [
    {
     "data": {
      "text/plain": [
       "0.0027649999999999997"
      ]
     },
     "execution_count": 10,
     "metadata": {},
     "output_type": "execute_result"
    }
   ],
   "source": [
    "ECCf[0]"
   ]
  },
  {
   "cell_type": "code",
   "execution_count": 11,
   "metadata": {},
   "outputs": [
    {
     "data": {
      "text/plain": [
       "(0.0, 0.0)"
      ]
     },
     "execution_count": 11,
     "metadata": {},
     "output_type": "execute_result"
    }
   ],
   "source": [
    "SQLF.PC(\"C12\",0.22)"
   ]
  },
  {
   "cell_type": "code",
   "execution_count": null,
   "metadata": {},
   "outputs": [],
   "source": []
  }
 ],
 "metadata": {
  "kernelspec": {
   "display_name": "Python 3",
   "language": "python",
   "name": "python3"
  },
  "language_info": {
   "codemirror_mode": {
    "name": "ipython",
    "version": 3
   },
   "file_extension": ".py",
   "mimetype": "text/x-python",
   "name": "python",
   "nbconvert_exporter": "python",
   "pygments_lexer": "ipython3",
   "version": "3.6.7"
  }
 },
 "nbformat": 4,
 "nbformat_minor": 2
}
