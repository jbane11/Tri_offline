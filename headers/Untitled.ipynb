{
 "cells": [
  {
   "cell_type": "code",
   "execution_count": 1,
   "metadata": {},
   "outputs": [],
   "source": [
    "import os,sys\n",
    "path_list=[]\n",
    "roots={\"/storage/MARATHONRootfiles/\",\n",
    "       \"/v/lustre2/expphy/cache/halla/triton/prod/marathon/\"}\n",
    "for root in roots:\n",
    "    ddirs = os.listdir(root)\n",
    "    for ddir in ddirs:\n",
    "        if( os.path.isdir(root+ddir)):\n",
    "            for subdir in os.listdir(root+ddir):\n",
    "                path = root+ddir+\"/\"+subdir\n",
    "                path_list.append(\"{}{}/{}\".format(root,ddir,subdir))\n",
    "    \n",
    "\n",
    "                "
   ]
  },
  {
   "cell_type": "code",
   "execution_count": 54,
   "metadata": {},
   "outputs": [],
   "source": [
    "\n",
    "def add_paths(newroot,paths):\n",
    "    \n",
    "    ###############\n",
    "    ddirs = os.listdir(newroot)\n",
    "    if(os.path.isdir(newroot)):\n",
    "        paths.append(newroot)\n",
    "    for ddir in ddirs:\n",
    "        if( os.path.isdir(root+ddir)):\n",
    "            for subdir in os.listdir(root+ddir):\n",
    "                path = root+ddir+\"/\"+subdir\n",
    "                paths.append(\"{}{}/{}\".format(root,ddir,subdir))"
   ]
  },
  {
   "cell_type": "code",
   "execution_count": 55,
   "metadata": {},
   "outputs": [],
   "source": [
    "\n",
    "add_paths(\"/volatile/halla/triton/Marathon_Rootfiles/pass1/\",path_list)"
   ]
  },
  {
   "cell_type": "code",
   "execution_count": 56,
   "metadata": {},
   "outputs": [
    {
     "data": {
      "text/plain": [
       "['/storage/MARATHONRootfiles/pass1/kin11',\n",
       " '/storage/MARATHONRootfiles/pass1/kin7',\n",
       " '/storage/MARATHONRootfiles/pass1/kin9',\n",
       " '/storage/MARATHONRootfiles/pass1/kin2',\n",
       " '/storage/MARATHONRootfiles/pass1/kin4',\n",
       " '/storage/MARATHONRootfiles/pass1/kin3',\n",
       " '/storage/MARATHONRootfiles/pass1/kin15',\n",
       " '/storage/MARATHONRootfiles/pass1/kin16',\n",
       " '/storage/MARATHONRootfiles/pass1/kin13',\n",
       " '/storage/MARATHONRootfiles/pass1/kin1',\n",
       " '/storage/MARATHONRootfiles/pass1/kin5',\n",
       " '/v/lustre2/expphy/cache/halla/triton/prod/marathon/pass2/kin13_1st',\n",
       " '/v/lustre2/expphy/cache/halla/triton/prod/marathon/pass2/kin16_1st',\n",
       " '/v/lustre2/expphy/cache/halla/triton/prod/marathon/pass2/kin1p',\n",
       " '/v/lustre2/expphy/cache/halla/triton/prod/marathon/pass2/kin2',\n",
       " '/v/lustre2/expphy/cache/halla/triton/prod/marathon/pass2/kin13_2nd',\n",
       " '/v/lustre2/expphy/cache/halla/triton/prod/marathon/pass2/kin4',\n",
       " '/v/lustre2/expphy/cache/halla/triton/prod/marathon/pass2/kin0',\n",
       " '/v/lustre2/expphy/cache/halla/triton/prod/marathon/pass2/kin7_1st',\n",
       " '/v/lustre2/expphy/cache/halla/triton/prod/marathon/pass2/kin5p',\n",
       " '/v/lustre2/expphy/cache/halla/triton/prod/marathon/pass2/kin16_2nd',\n",
       " '/v/lustre2/expphy/cache/halla/triton/prod/marathon/pass2/kin15_3rd',\n",
       " '/v/lustre2/expphy/cache/halla/triton/prod/marathon/pass2/kin9_1st',\n",
       " '/v/lustre2/expphy/cache/halla/triton/prod/marathon/pass2/kin11_2nd',\n",
       " '/v/lustre2/expphy/cache/halla/triton/prod/marathon/pass2/kin7_2nd',\n",
       " '/v/lustre2/expphy/cache/halla/triton/prod/marathon/pass2/kin15_2nd',\n",
       " '/v/lustre2/expphy/cache/halla/triton/prod/marathon/pass2/kin15_1st',\n",
       " '/v/lustre2/expphy/cache/halla/triton/prod/marathon/pass2/kin11_1st',\n",
       " '/v/lustre2/expphy/cache/halla/triton/prod/marathon/pass2/kin1',\n",
       " '/v/lustre2/expphy/cache/halla/triton/prod/marathon/pass2/kin5',\n",
       " '/v/lustre2/expphy/cache/halla/triton/prod/marathon/pass2/kin3',\n",
       " '/v/lustre2/expphy/cache/halla/triton/prod/marathon/pass2/kin2p',\n",
       " '/v/lustre2/expphy/cache/halla/triton/prod/marathon/pass2/kin9_2nd',\n",
       " '/v/lustre2/expphy/cache/halla/triton/prod/marathon/pass2/kin3p',\n",
       " '/v/lustre2/expphy/cache/halla/triton/prod/marathon/LT/LT2',\n",
       " '/v/lustre2/expphy/cache/halla/triton/prod/marathon/LT/LT3',\n",
       " '/v/lustre2/expphy/cache/halla/triton/prod/marathon/LT/LT1',\n",
       " '/v/lustre2/expphy/cache/halla/triton/prod/marathon/pass1_calibration/kin7',\n",
       " '/v/lustre2/expphy/cache/halla/triton/prod/marathon/pass1_calibration/optics',\n",
       " '/v/lustre2/expphy/cache/halla/triton/prod/marathon/pass1_calibration/kin16',\n",
       " '/v/lustre2/expphy/cache/halla/triton/prod/marathon/pass1_calibration/kin2',\n",
       " '/v/lustre2/expphy/cache/halla/triton/prod/marathon/pass1_calibration/kin4',\n",
       " '/v/lustre2/expphy/cache/halla/triton/prod/marathon/pass1_calibration/kin0',\n",
       " '/v/lustre2/expphy/cache/halla/triton/prod/marathon/pass1_calibration/kin15',\n",
       " '/v/lustre2/expphy/cache/halla/triton/prod/marathon/pass1_calibration/positron',\n",
       " '/v/lustre2/expphy/cache/halla/triton/prod/marathon/pass1_calibration/kin13',\n",
       " '/v/lustre2/expphy/cache/halla/triton/prod/marathon/pass1_calibration/kin1',\n",
       " '/v/lustre2/expphy/cache/halla/triton/prod/marathon/pass1_calibration/kin5',\n",
       " '/v/lustre2/expphy/cache/halla/triton/prod/marathon/pass1_calibration/kin3',\n",
       " '/v/lustre2/expphy/cache/halla/triton/prod/marathon/pass1_calibration/kin11',\n",
       " '/v/lustre2/expphy/cache/halla/triton/prod/marathon/pass1_calibration/kin9',\n",
       " '/v/lustre2/expphy/cache/halla/triton/prod/marathon/pass2_calibration/kin2',\n",
       " '/v/lustre2/expphy/cache/halla/triton/prod/marathon/pass2_calibration/kin1',\n",
       " '/v/lustre2/expphy/cache/halla/triton/prod/marathon/pass2_calibration/kin3',\n",
       " '/v/lustre2/expphy/cache/halla/triton/prod/marathon/pass1/kin7',\n",
       " '/v/lustre2/expphy/cache/halla/triton/prod/marathon/pass1/optics',\n",
       " '/v/lustre2/expphy/cache/halla/triton/prod/marathon/pass1/kin16',\n",
       " '/v/lustre2/expphy/cache/halla/triton/prod/marathon/pass1/kin2',\n",
       " '/v/lustre2/expphy/cache/halla/triton/prod/marathon/pass1/kin4',\n",
       " '/v/lustre2/expphy/cache/halla/triton/prod/marathon/pass1/kin0',\n",
       " '/v/lustre2/expphy/cache/halla/triton/prod/marathon/pass1/kin15',\n",
       " '/v/lustre2/expphy/cache/halla/triton/prod/marathon/pass1/positron',\n",
       " '/v/lustre2/expphy/cache/halla/triton/prod/marathon/pass1/kin13',\n",
       " '/v/lustre2/expphy/cache/halla/triton/prod/marathon/pass1/kin1',\n",
       " '/v/lustre2/expphy/cache/halla/triton/prod/marathon/pass1/kin5',\n",
       " '/v/lustre2/expphy/cache/halla/triton/prod/marathon/pass1/kin3',\n",
       " '/v/lustre2/expphy/cache/halla/triton/prod/marathon/pass1/kin11',\n",
       " '/v/lustre2/expphy/cache/halla/triton/prod/marathon/pass1/kin9',\n",
       " '/volatile/halla/triton/Marathon_Rootfiles/pass1/']"
      ]
     },
     "execution_count": 56,
     "metadata": {},
     "output_type": "execute_result"
    }
   ],
   "source": [
    "path_list"
   ]
  },
  {
   "cell_type": "code",
   "execution_count": 58,
   "metadata": {},
   "outputs": [
    {
     "data": {
      "text/plain": [
       "False"
      ]
     },
     "execution_count": 58,
     "metadata": {},
     "output_type": "execute_result"
    }
   ],
   "source": [
    "os.path.exists(\"/v/lustre2/expphy/cache/halla/triton/prod/marathon/pass2/kin2/tritium_1207.root\")"
   ]
  },
  {
   "cell_type": "code",
   "execution_count": 2,
   "metadata": {},
   "outputs": [
    {
     "data": {
      "text/html": [
       "<style>.container { width:100% !important; }</style>"
      ],
      "text/plain": [
       "<IPython.core.display.HTML object>"
      ]
     },
     "metadata": {},
     "output_type": "display_data"
    },
    {
     "data": {
      "text/html": [
       "<style>.container { width:100% !important; }</style>"
      ],
      "text/plain": [
       "<IPython.core.display.HTML object>"
      ]
     },
     "metadata": {},
     "output_type": "display_data"
    }
   ],
   "source": [
    "from IPython.core.display import display, HTML\n",
    "display(HTML(\"<style>.container { width:100% !important; }</style>\"))\n",
    "import pandas as pd\n",
    "import matplotlib.pyplot as plt\n",
    "from matplotlib import cm\n",
    "import os,sys\n",
    "import glob\n",
    "import numpy as np\n",
    "import scipy\n",
    "from scipy import interpolate\n",
    "from scipy.optimize import curve_fit\n",
    "\n",
    "\n",
    "import mysql.connector\n",
    "db_user= 'triton-user'\n",
    "db_pswd= '3He3Hdata'\n",
    "db_name= 'triton-work'\n",
    "db_host= 'halladb'\n",
    "import SQLFuncs\n",
    "\n",
    "def SQL_CorList(run):\n",
    "    comps=[\"eff\",\"err\"]\n",
    "    allnames=[]\n",
    "    names=[]\n",
    "    nums=[]\n",
    "    effs=[]\n",
    "    eff={}\n",
    "    cnx = mysql.connector.connect(user=db_user,host=db_host,database=db_name, password=db_pswd)\n",
    "    cursor = cnx.cursor(buffered=True)\n",
    "    query1 = 'select * from MARATHONanalysis where run_number={};'.format(run)\n",
    "    cursor.execute(query1)\n",
    "    des =cursor.description\n",
    "    results=cursor.fetchall()\n",
    "    cnx.close()  \n",
    "\n",
    "    if len(results) >= 1:\n",
    "        for i in range(len(results[0])):\n",
    "            allnames.append(des[i][0])\n",
    "        \n",
    "        for i in range(len(results[0])):\n",
    "            if comps[0] in des[i][0] :\n",
    "                if \"NE\"  in des[i][0] :\n",
    "                    continue\n",
    "                names.append(des[i][0])\n",
    "                nums.append(results[0][i])\n",
    "                shrt = des[i][0].replace(\"_eff\",\"\")\n",
    "                lng=\"{}_err\".format(shrt)\n",
    "                loc = allnames.index(lng)\n",
    "                effs.append(results[0][loc])\n",
    "                print(shrt,results[0][i],results[0][loc]  )\n",
    "                eff[i]={\"name\":shrt, \"eff\": results[0][i],\"err\":results[0][loc] }\n",
    "         \n",
    "                \n",
    "    return names,nums,effs,allnames,eff\n",
    "\n",
    "def SQL_CorListNE(run):\n",
    "    comps=[\"eff\",\"err\"]\n",
    "    allnames=[]\n",
    "    names=[]\n",
    "    nums=[]\n",
    "    effs=[]\n",
    "    eff={}\n",
    "    cnx = mysql.connector.connect(user=db_user,host=db_host,database=db_name, password=db_pswd)\n",
    "    cursor = cnx.cursor(buffered=True)\n",
    "    query1 = 'select * from MARATHONanalysis where run_number={};'.format(run)\n",
    "    cursor.execute(query1)\n",
    "    des =cursor.description\n",
    "    results=cursor.fetchall()\n",
    "    cnx.close()  \n",
    "\n",
    "    if len(results) >= 1:\n",
    "        for i in range(len(results[0])):\n",
    "            allnames.append(des[i][0])\n",
    "        \n",
    "        for i in range(len(results[0])):\n",
    "            if comps[0] in des[i][0] :\n",
    "               # if \"NE\"  in des[i][0] :\n",
    "               #     continue\n",
    "                names.append(des[i][0])\n",
    "                nums.append(results[0][i])\n",
    "                shrt = des[i][0].replace(\"_eff\",\"\")\n",
    "                lng=\"{}_err\".format(shrt)\n",
    "                loc = allnames.index(lng)\n",
    "                effs.append(results[0][loc])\n",
    "                print(shrt,results[0][i],results[0][loc]  )\n",
    "                if \"NE\" in shrt:\n",
    "                    eff[i]={\"name\":shrt, \"eff\": results[0][i],\"err\":results[0][loc] }        \n",
    "                else:\n",
    "                    eff[i]={\"name\":shrt, \"eff\": results[0][i],\"err\":results[0][loc] }\n",
    "         \n",
    "                \n",
    "    return names,nums,effs,allnames,eff\n",
    "\n",
    "def listmult(A,name):\n",
    "    B=1.0\n",
    "    index=A.columns\n",
    "    for i in index:\n",
    "        if \"NE\" in A.loc[\"name\"][i]:\n",
    "            B=B*(1/A.loc[name][i])\n",
    "        else:\n",
    "            B=B*A.loc[name][i]\n",
    "    return B\n",
    "\n",
    "def inquad(A,name,name1):\n",
    "    B=0.0\n",
    "    index=A.columns\n",
    "    for i in index:\n",
    "        #if \"NE\" in A.loc[\"name\"][i]:\n",
    "        #    B=B+( (1-A.loc[name1][i]) * A.loc[name][i] )**2\n",
    "        #else :    \n",
    "        B=B+(A.loc[name][i])**2\n",
    "    B=np.sqrt(B)\n",
    "    return B\n",
    "\n",
    "\n",
    "def get_runcor(run):\n",
    "    n,nn,nnn,allnames,eff =SQL_CorListNE(run)\n",
    "    DF1=pd.DataFrame.from_dict(eff)\n",
    "    eff[len(allnames)]={\"name\": \"Total\" , \"eff\" :listmult(DF1,\"eff\"), \"err\" :inquad(DF1,\"err\",\"eff\")}\n",
    "    DF1=pd.DataFrame.from_dict(eff)\n",
    "    DF1=DF1.reindex(['name','eff','err'])\n",
    "    c=DF1[len(allnames)]\n",
    "    effnm=c['eff']\n",
    "    errnm=c['err']\n",
    "    return effnm,errnm,DF1\n",
    "    "
   ]
  },
  {
   "cell_type": "code",
   "execution_count": 3,
   "metadata": {},
   "outputs": [
    {
     "name": "stdout",
     "output_type": "stream",
     "text": [
      "PID_cer 0.997019 0.000543\n",
      "PID_ps 0.996255 0.001869\n",
      "PID_sh 0.994934 0.001787\n",
      "PID_NE 0.999669 0.039157\n",
      "Tracking 0.985411 0.000997\n",
      "Trigger 1.0 0.0\n",
      "livetime 0.98981 0.000715\n"
     ]
    },
    {
     "data": {
      "text/html": [
       "<div>\n",
       "<style scoped>\n",
       "    .dataframe tbody tr th:only-of-type {\n",
       "        vertical-align: middle;\n",
       "    }\n",
       "\n",
       "    .dataframe tbody tr th {\n",
       "        vertical-align: top;\n",
       "    }\n",
       "\n",
       "    .dataframe thead th {\n",
       "        text-align: right;\n",
       "    }\n",
       "</style>\n",
       "<table border=\"1\" class=\"dataframe\">\n",
       "  <thead>\n",
       "    <tr style=\"text-align: right;\">\n",
       "      <th></th>\n",
       "      <th>9</th>\n",
       "      <th>16</th>\n",
       "      <th>17</th>\n",
       "      <th>20</th>\n",
       "      <th>21</th>\n",
       "      <th>23</th>\n",
       "      <th>26</th>\n",
       "      <th>27</th>\n",
       "    </tr>\n",
       "  </thead>\n",
       "  <tbody>\n",
       "    <tr>\n",
       "      <th>name</th>\n",
       "      <td>PID_cer</td>\n",
       "      <td>PID_ps</td>\n",
       "      <td>PID_sh</td>\n",
       "      <td>PID_NE</td>\n",
       "      <td>Tracking</td>\n",
       "      <td>Trigger</td>\n",
       "      <td>livetime</td>\n",
       "      <td>Total</td>\n",
       "    </tr>\n",
       "    <tr>\n",
       "      <th>eff</th>\n",
       "      <td>0.997019</td>\n",
       "      <td>0.996255</td>\n",
       "      <td>0.994934</td>\n",
       "      <td>0.999669</td>\n",
       "      <td>0.985411</td>\n",
       "      <td>1</td>\n",
       "      <td>0.98981</td>\n",
       "      <td>0.964231</td>\n",
       "    </tr>\n",
       "    <tr>\n",
       "      <th>err</th>\n",
       "      <td>0.000543</td>\n",
       "      <td>0.001869</td>\n",
       "      <td>0.001787</td>\n",
       "      <td>0.039157</td>\n",
       "      <td>0.000997</td>\n",
       "      <td>0</td>\n",
       "      <td>0.000715</td>\n",
       "      <td>0.0392652</td>\n",
       "    </tr>\n",
       "  </tbody>\n",
       "</table>\n",
       "</div>"
      ],
      "text/plain": [
       "            9         16        17        20        21       23        26  \\\n",
       "name   PID_cer    PID_ps    PID_sh    PID_NE  Tracking  Trigger  livetime   \n",
       "eff   0.997019  0.996255  0.994934  0.999669  0.985411        1   0.98981   \n",
       "err   0.000543  0.001869  0.001787  0.039157  0.000997        0  0.000715   \n",
       "\n",
       "             27  \n",
       "name      Total  \n",
       "eff    0.964231  \n",
       "err   0.0392652  "
      ]
     },
     "execution_count": 3,
     "metadata": {},
     "output_type": "execute_result"
    }
   ],
   "source": [
    "eff,err,Df=get_runcor(1207)\n",
    "Df=Df.reindex(['name','eff','err'])\n",
    "Df"
   ]
  },
  {
   "cell_type": "code",
   "execution_count": 84,
   "metadata": {},
   "outputs": [
    {
     "data": {
      "text/html": [
       "<div>\n",
       "<style scoped>\n",
       "    .dataframe tbody tr th:only-of-type {\n",
       "        vertical-align: middle;\n",
       "    }\n",
       "\n",
       "    .dataframe tbody tr th {\n",
       "        vertical-align: top;\n",
       "    }\n",
       "\n",
       "    .dataframe thead th {\n",
       "        text-align: right;\n",
       "    }\n",
       "</style>\n",
       "<table border=\"1\" class=\"dataframe\">\n",
       "  <thead>\n",
       "    <tr style=\"text-align: right;\">\n",
       "      <th></th>\n",
       "      <th>0</th>\n",
       "    </tr>\n",
       "  </thead>\n",
       "  <tbody>\n",
       "    <tr>\n",
       "      <th>name</th>\n",
       "      <td>Total</td>\n",
       "    </tr>\n",
       "    <tr>\n",
       "      <th>eff</th>\n",
       "      <td>1</td>\n",
       "    </tr>\n",
       "    <tr>\n",
       "      <th>err</th>\n",
       "      <td>0</td>\n",
       "    </tr>\n",
       "  </tbody>\n",
       "</table>\n",
       "</div>"
      ],
      "text/plain": [
       "          0\n",
       "name  Total\n",
       "eff       1\n",
       "err       0"
      ]
     },
     "execution_count": 84,
     "metadata": {},
     "output_type": "execute_result"
    }
   ],
   "source": [
    "Df\n"
   ]
  },
  {
   "cell_type": "code",
   "execution_count": 18,
   "metadata": {},
   "outputs": [],
   "source": [
    "import pandas as pd\n",
    "DF=pd.DataFrame.from_dict(eff,or)"
   ]
  },
  {
   "cell_type": "code",
   "execution_count": 19,
   "metadata": {},
   "outputs": [],
   "source": [
    "DF=DF.reindex(['name','eff','err'])"
   ]
  },
  {
   "cell_type": "code",
   "execution_count": 20,
   "metadata": {},
   "outputs": [
    {
     "data": {
      "text/html": [
       "<div>\n",
       "<style scoped>\n",
       "    .dataframe tbody tr th:only-of-type {\n",
       "        vertical-align: middle;\n",
       "    }\n",
       "\n",
       "    .dataframe tbody tr th {\n",
       "        vertical-align: top;\n",
       "    }\n",
       "\n",
       "    .dataframe thead th {\n",
       "        text-align: right;\n",
       "    }\n",
       "</style>\n",
       "<table border=\"1\" class=\"dataframe\">\n",
       "  <thead>\n",
       "    <tr style=\"text-align: right;\">\n",
       "      <th></th>\n",
       "      <th>9</th>\n",
       "      <th>16</th>\n",
       "      <th>17</th>\n",
       "      <th>21</th>\n",
       "      <th>23</th>\n",
       "      <th>26</th>\n",
       "    </tr>\n",
       "  </thead>\n",
       "  <tbody>\n",
       "    <tr>\n",
       "      <th>name</th>\n",
       "      <td>PID_cer</td>\n",
       "      <td>PID_ps</td>\n",
       "      <td>PID_sh</td>\n",
       "      <td>Tracking</td>\n",
       "      <td>Trigger</td>\n",
       "      <td>livetime</td>\n",
       "    </tr>\n",
       "    <tr>\n",
       "      <th>eff</th>\n",
       "      <td>0.996759</td>\n",
       "      <td>0.994516</td>\n",
       "      <td>0.991634</td>\n",
       "      <td>0.986878</td>\n",
       "      <td>0.999949</td>\n",
       "      <td>0.949222</td>\n",
       "    </tr>\n",
       "    <tr>\n",
       "      <th>err</th>\n",
       "      <td>0.000163</td>\n",
       "      <td>0.000631</td>\n",
       "      <td>0.000632</td>\n",
       "      <td>0.000252</td>\n",
       "      <td>0</td>\n",
       "      <td>0.000442</td>\n",
       "    </tr>\n",
       "  </tbody>\n",
       "</table>\n",
       "</div>"
      ],
      "text/plain": [
       "            9         16        17        21        23        26\n",
       "name   PID_cer    PID_ps    PID_sh  Tracking   Trigger  livetime\n",
       "eff   0.996759  0.994516  0.991634  0.986878  0.999949  0.949222\n",
       "err   0.000163  0.000631  0.000632  0.000252         0  0.000442"
      ]
     },
     "execution_count": 20,
     "metadata": {},
     "output_type": "execute_result"
    }
   ],
   "source": [
    "DF"
   ]
  },
  {
   "cell_type": "code",
   "execution_count": 105,
   "metadata": {},
   "outputs": [],
   "source": [
    "eff[27]={\"name\": \"Total\" , \"eff\" :listmult(DF,\"eff\"), \"err\" :inquad(DF,\"err\",\"eff\")}"
   ]
  },
  {
   "cell_type": "code",
   "execution_count": 106,
   "metadata": {},
   "outputs": [],
   "source": [
    "DF1=pd.DataFrame.from_dict(eff)"
   ]
  },
  {
   "cell_type": "code",
   "execution_count": 107,
   "metadata": {},
   "outputs": [
    {
     "data": {
      "text/plain": [
       "'livetime'"
      ]
     },
     "execution_count": 107,
     "metadata": {},
     "output_type": "execute_result"
    }
   ],
   "source": [
    "DF1.loc[\"name\"][26]"
   ]
  },
  {
   "cell_type": "code",
   "execution_count": 108,
   "metadata": {},
   "outputs": [
    {
     "data": {
      "text/html": [
       "<div>\n",
       "<style scoped>\n",
       "    .dataframe tbody tr th:only-of-type {\n",
       "        vertical-align: middle;\n",
       "    }\n",
       "\n",
       "    .dataframe tbody tr th {\n",
       "        vertical-align: top;\n",
       "    }\n",
       "\n",
       "    .dataframe thead th {\n",
       "        text-align: right;\n",
       "    }\n",
       "</style>\n",
       "<table border=\"1\" class=\"dataframe\">\n",
       "  <thead>\n",
       "    <tr style=\"text-align: right;\">\n",
       "      <th></th>\n",
       "      <th>9</th>\n",
       "      <th>16</th>\n",
       "      <th>17</th>\n",
       "      <th>20</th>\n",
       "      <th>21</th>\n",
       "      <th>23</th>\n",
       "      <th>26</th>\n",
       "      <th>27</th>\n",
       "    </tr>\n",
       "  </thead>\n",
       "  <tbody>\n",
       "    <tr>\n",
       "      <th>name</th>\n",
       "      <td>PID_cer</td>\n",
       "      <td>PID_ps</td>\n",
       "      <td>PID_sh</td>\n",
       "      <td>PID_NE</td>\n",
       "      <td>Tracking</td>\n",
       "      <td>Trigger</td>\n",
       "      <td>livetime</td>\n",
       "      <td>Total</td>\n",
       "    </tr>\n",
       "    <tr>\n",
       "      <th>eff</th>\n",
       "      <td>0.99714</td>\n",
       "      <td>0.993948</td>\n",
       "      <td>0.991138</td>\n",
       "      <td>0.999616</td>\n",
       "      <td>0.987001</td>\n",
       "      <td>0.999907</td>\n",
       "      <td>0.95347</td>\n",
       "      <td>0.920794</td>\n",
       "    </tr>\n",
       "    <tr>\n",
       "      <th>err</th>\n",
       "      <td>0.000191</td>\n",
       "      <td>0.000829</td>\n",
       "      <td>0.000812</td>\n",
       "      <td>0.013924</td>\n",
       "      <td>0.00025</td>\n",
       "      <td>0</td>\n",
       "      <td>0.000317</td>\n",
       "      <td>0.00102511</td>\n",
       "    </tr>\n",
       "  </tbody>\n",
       "</table>\n",
       "</div>"
      ],
      "text/plain": [
       "            9         16        17        20        21        23        26  \\\n",
       "name   PID_cer    PID_ps    PID_sh    PID_NE  Tracking   Trigger  livetime   \n",
       "eff    0.99714  0.993948  0.991138  0.999616  0.987001  0.999907   0.95347   \n",
       "err   0.000191  0.000829  0.000812  0.013924   0.00025         0  0.000317   \n",
       "\n",
       "              27  \n",
       "name       Total  \n",
       "eff     0.920794  \n",
       "err   0.00102511  "
      ]
     },
     "execution_count": 108,
     "metadata": {},
     "output_type": "execute_result"
    }
   ],
   "source": [
    "DF1=DF1.reindex(['name','eff','err'])\n",
    "DF1"
   ]
  },
  {
   "cell_type": "code",
   "execution_count": 117,
   "metadata": {},
   "outputs": [
    {
     "data": {
      "text/plain": [
       "0.9207939612133124"
      ]
     },
     "execution_count": 117,
     "metadata": {},
     "output_type": "execute_result"
    }
   ],
   "source": [
    "\n",
    "c=DF1[27]\n",
    "eff=c['eff']\n",
    "err=c['err']\n"
   ]
  },
  {
   "cell_type": "code",
   "execution_count": 250,
   "metadata": {},
   "outputs": [
    {
     "data": {
      "text/plain": [
       "1.0383290571211916"
      ]
     },
     "execution_count": 250,
     "metadata": {},
     "output_type": "execute_result"
    }
   ],
   "source": [
    "0.999589/0.96269"
   ]
  },
  {
   "cell_type": "code",
   "execution_count": 251,
   "metadata": {},
   "outputs": [
    {
     "data": {
      "text/plain": [
       "0.9630858282754213"
      ]
     },
     "execution_count": 251,
     "metadata": {},
     "output_type": "execute_result"
    }
   ],
   "source": [
    "(1/0.999589)*0.96269"
   ]
  },
  {
   "cell_type": "code",
   "execution_count": 252,
   "metadata": {},
   "outputs": [
    {
     "data": {
      "text/plain": [
       "0.04542555002769256"
      ]
     },
     "execution_count": 252,
     "metadata": {},
     "output_type": "execute_result"
    }
   ],
   "source": [
    "np.sqrt(0.00319572**2 + 0.045313**2 )"
   ]
  },
  {
   "cell_type": "code",
   "execution_count": 93,
   "metadata": {},
   "outputs": [],
   "source": [
    "n,nn,nnn,allnames,eff =SQL_CorListNE(1222)\n",
    "DF1=pd.DataFrame.from_dict(eff)\n",
    "DF1=DF1.reindex(['name','eff','err'])"
   ]
  },
  {
   "cell_type": "code",
   "execution_count": 92,
   "metadata": {},
   "outputs": [
    {
     "data": {
      "text/plain": [
       "[0.469931, 0.000372, 0.000352, 0.0, 0.00025, 0.0, 0.000317]"
      ]
     },
     "execution_count": 92,
     "metadata": {},
     "output_type": "execute_result"
    }
   ],
   "source": [
    "nnn"
   ]
  },
  {
   "cell_type": "code",
   "execution_count": 25,
   "metadata": {},
   "outputs": [],
   "source": [
    "DF1=pd.DataFrame.from_dict(eff, orient='index')"
   ]
  },
  {
   "cell_type": "code",
   "execution_count": 26,
   "metadata": {},
   "outputs": [
    {
     "data": {
      "text/html": [
       "<div>\n",
       "<style scoped>\n",
       "    .dataframe tbody tr th:only-of-type {\n",
       "        vertical-align: middle;\n",
       "    }\n",
       "\n",
       "    .dataframe tbody tr th {\n",
       "        vertical-align: top;\n",
       "    }\n",
       "\n",
       "    .dataframe thead th {\n",
       "        text-align: right;\n",
       "    }\n",
       "</style>\n",
       "<table border=\"1\" class=\"dataframe\">\n",
       "  <thead>\n",
       "    <tr style=\"text-align: right;\">\n",
       "      <th></th>\n",
       "      <th>name</th>\n",
       "      <th>eff</th>\n",
       "      <th>err</th>\n",
       "    </tr>\n",
       "  </thead>\n",
       "  <tbody>\n",
       "    <tr>\n",
       "      <th>9</th>\n",
       "      <td>PID_cer</td>\n",
       "      <td>0.997140</td>\n",
       "      <td>0.000191</td>\n",
       "    </tr>\n",
       "    <tr>\n",
       "      <th>16</th>\n",
       "      <td>PID_ps</td>\n",
       "      <td>0.993948</td>\n",
       "      <td>0.000829</td>\n",
       "    </tr>\n",
       "    <tr>\n",
       "      <th>17</th>\n",
       "      <td>PID_sh</td>\n",
       "      <td>0.991138</td>\n",
       "      <td>0.000812</td>\n",
       "    </tr>\n",
       "    <tr>\n",
       "      <th>20</th>\n",
       "      <td>PID_NE</td>\n",
       "      <td>0.999616</td>\n",
       "      <td>0.013924</td>\n",
       "    </tr>\n",
       "    <tr>\n",
       "      <th>21</th>\n",
       "      <td>Tracking</td>\n",
       "      <td>0.987001</td>\n",
       "      <td>0.000250</td>\n",
       "    </tr>\n",
       "    <tr>\n",
       "      <th>23</th>\n",
       "      <td>Trigger</td>\n",
       "      <td>0.999907</td>\n",
       "      <td>0.000000</td>\n",
       "    </tr>\n",
       "    <tr>\n",
       "      <th>26</th>\n",
       "      <td>livetime</td>\n",
       "      <td>0.953470</td>\n",
       "      <td>0.000317</td>\n",
       "    </tr>\n",
       "  </tbody>\n",
       "</table>\n",
       "</div>"
      ],
      "text/plain": [
       "        name       eff       err\n",
       "9    PID_cer  0.997140  0.000191\n",
       "16    PID_ps  0.993948  0.000829\n",
       "17    PID_sh  0.991138  0.000812\n",
       "20    PID_NE  0.999616  0.013924\n",
       "21  Tracking  0.987001  0.000250\n",
       "23   Trigger  0.999907  0.000000\n",
       "26  livetime  0.953470  0.000317"
      ]
     },
     "execution_count": 26,
     "metadata": {},
     "output_type": "execute_result"
    }
   ],
   "source": [
    "\n",
    "DF1"
   ]
  },
  {
   "cell_type": "code",
   "execution_count": 47,
   "metadata": {},
   "outputs": [],
   "source": [
    "eff[27]={\"name\": \"Total\" , \"eff\" :listmult(DF1,\"eff\"), \"err\" :inquad(DF1,\"err\",\"eff\")}"
   ]
  },
  {
   "cell_type": "code",
   "execution_count": 48,
   "metadata": {},
   "outputs": [],
   "source": [
    "DF1=pd.DataFrame.from_dict(eff)"
   ]
  },
  {
   "cell_type": "code",
   "execution_count": 49,
   "metadata": {},
   "outputs": [
    {
     "data": {
      "text/html": [
       "<div>\n",
       "<style scoped>\n",
       "    .dataframe tbody tr th:only-of-type {\n",
       "        vertical-align: middle;\n",
       "    }\n",
       "\n",
       "    .dataframe tbody tr th {\n",
       "        vertical-align: top;\n",
       "    }\n",
       "\n",
       "    .dataframe thead th {\n",
       "        text-align: right;\n",
       "    }\n",
       "</style>\n",
       "<table border=\"1\" class=\"dataframe\">\n",
       "  <thead>\n",
       "    <tr style=\"text-align: right;\">\n",
       "      <th></th>\n",
       "      <th>9</th>\n",
       "      <th>16</th>\n",
       "      <th>17</th>\n",
       "      <th>20</th>\n",
       "      <th>21</th>\n",
       "      <th>23</th>\n",
       "      <th>26</th>\n",
       "      <th>27</th>\n",
       "    </tr>\n",
       "  </thead>\n",
       "  <tbody>\n",
       "    <tr>\n",
       "      <th>eff</th>\n",
       "      <td>0.99714</td>\n",
       "      <td>0.993948</td>\n",
       "      <td>0.991138</td>\n",
       "      <td>0.999616</td>\n",
       "      <td>0.987001</td>\n",
       "      <td>0.999907</td>\n",
       "      <td>0.95347</td>\n",
       "      <td>0.924709</td>\n",
       "    </tr>\n",
       "    <tr>\n",
       "      <th>err</th>\n",
       "      <td>0.000191</td>\n",
       "      <td>0.000829</td>\n",
       "      <td>0.000812</td>\n",
       "      <td>0.013924</td>\n",
       "      <td>0.00025</td>\n",
       "      <td>0</td>\n",
       "      <td>0.000317</td>\n",
       "      <td>0.013973</td>\n",
       "    </tr>\n",
       "    <tr>\n",
       "      <th>name</th>\n",
       "      <td>PID_cer</td>\n",
       "      <td>PID_ps</td>\n",
       "      <td>PID_sh</td>\n",
       "      <td>PID_NE</td>\n",
       "      <td>Tracking</td>\n",
       "      <td>Trigger</td>\n",
       "      <td>livetime</td>\n",
       "      <td>Total</td>\n",
       "    </tr>\n",
       "  </tbody>\n",
       "</table>\n",
       "</div>"
      ],
      "text/plain": [
       "            9         16        17        20        21        23        26  \\\n",
       "eff    0.99714  0.993948  0.991138  0.999616  0.987001  0.999907   0.95347   \n",
       "err   0.000191  0.000829  0.000812  0.013924   0.00025         0  0.000317   \n",
       "name   PID_cer    PID_ps    PID_sh    PID_NE  Tracking   Trigger  livetime   \n",
       "\n",
       "            27  \n",
       "eff   0.924709  \n",
       "err   0.013973  \n",
       "name     Total  "
      ]
     },
     "execution_count": 49,
     "metadata": {},
     "output_type": "execute_result"
    }
   ],
   "source": [
    "DF1"
   ]
  },
  {
   "cell_type": "code",
   "execution_count": 78,
   "metadata": {},
   "outputs": [
    {
     "data": {
      "text/plain": [
       "['name', 'eff', 'err']"
      ]
     },
     "execution_count": 78,
     "metadata": {},
     "output_type": "execute_result"
    }
   ],
   "source": [
    "list(eff)"
   ]
  },
  {
   "cell_type": "code",
   "execution_count": 102,
   "metadata": {},
   "outputs": [
    {
     "ename": "AttributeError",
     "evalue": "'dict' object has no attribute 'index'",
     "output_type": "error",
     "traceback": [
      "\u001b[0;31m---------------------------------------------------------------------------\u001b[0m",
      "\u001b[0;31mAttributeError\u001b[0m                            Traceback (most recent call last)",
      "\u001b[0;32m<ipython-input-102-18013ed6942d>\u001b[0m in \u001b[0;36m<module>\u001b[0;34m()\u001b[0m\n\u001b[0;32m----> 1\u001b[0;31m \u001b[0mA\u001b[0m \u001b[0;34m=\u001b[0m\u001b[0meff\u001b[0m\u001b[0;34m.\u001b[0m\u001b[0mindex\u001b[0m\u001b[0;34m(\u001b[0m\u001b[0;34m)\u001b[0m\u001b[0;34m\u001b[0m\u001b[0;34m\u001b[0m\u001b[0m\n\u001b[0m",
      "\u001b[0;31mAttributeError\u001b[0m: 'dict' object has no attribute 'index'"
     ]
    }
   ],
   "source": [
    "A =eff.index()"
   ]
  },
  {
   "cell_type": "code",
   "execution_count": 101,
   "metadata": {},
   "outputs": [
    {
     "data": {
      "text/plain": [
       "dict_values([{'name': 'PID_cer', 'eff': 0.99714, 'err': 0.000191}, {'name': 'PID_ps', 'eff': 0.993948, 'err': 0.000829}, {'name': 'PID_sh', 'eff': 0.991138, 'err': 0.000812}, {'name': 'PID_NE', 'eff': 0.999616, 'err': 0.013924}, {'name': 'Tracking', 'eff': 0.987001, 'err': 0.00025}, {'name': 'Trigger', 'eff': 0.999907, 'err': 0.0}, {'name': 'livetime', 'eff': 0.95347, 'err': 0.000317}, {'name': 'Total', 'eff': 0.9247087455910981, 'err': 0.013972976676454668}])"
      ]
     },
     "execution_count": 101,
     "metadata": {},
     "output_type": "execute_result"
    }
   ],
   "source": [
    "A"
   ]
  },
  {
   "cell_type": "code",
   "execution_count": 92,
   "metadata": {},
   "outputs": [
    {
     "name": "stdout",
     "output_type": "stream",
     "text": [
      "<built-in method items of dict object at 0x7f23222784c8>\n"
     ]
    }
   ],
   "source": [
    "print(A)"
   ]
  },
  {
   "cell_type": "code",
   "execution_count": 93,
   "metadata": {},
   "outputs": [
    {
     "ename": "TypeError",
     "evalue": "object of type 'builtin_function_or_method' has no len()",
     "output_type": "error",
     "traceback": [
      "\u001b[0;31m---------------------------------------------------------------------------\u001b[0m",
      "\u001b[0;31mTypeError\u001b[0m                                 Traceback (most recent call last)",
      "\u001b[0;32m<ipython-input-93-e5dfc1a1b61c>\u001b[0m in \u001b[0;36m<module>\u001b[0;34m()\u001b[0m\n\u001b[0;32m----> 1\u001b[0;31m \u001b[0mlen\u001b[0m\u001b[0;34m(\u001b[0m\u001b[0mA\u001b[0m\u001b[0;34m)\u001b[0m\u001b[0;34m\u001b[0m\u001b[0;34m\u001b[0m\u001b[0m\n\u001b[0m",
      "\u001b[0;31mTypeError\u001b[0m: object of type 'builtin_function_or_method' has no len()"
     ]
    }
   ],
   "source": [
    "len(A)"
   ]
  },
  {
   "cell_type": "code",
   "execution_count": null,
   "metadata": {},
   "outputs": [],
   "source": []
  }
 ],
 "metadata": {
  "kernelspec": {
   "display_name": "Python 3",
   "language": "python",
   "name": "python3"
  },
  "language_info": {
   "codemirror_mode": {
    "name": "ipython",
    "version": 3
   },
   "file_extension": ".py",
   "mimetype": "text/x-python",
   "name": "python",
   "nbconvert_exporter": "python",
   "pygments_lexer": "ipython3",
   "version": "3.6.7"
  }
 },
 "nbformat": 4,
 "nbformat_minor": 2
}
